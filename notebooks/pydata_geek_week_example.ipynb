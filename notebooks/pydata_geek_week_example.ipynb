{
 "cells": [
  {
   "cell_type": "markdown",
   "metadata": {},
   "source": [
    "# Load appropriate classes (here we load a jar)"
   ]
  },
  {
   "cell_type": "code",
   "execution_count": 1,
   "metadata": {
    "collapsed": false,
    "deletable": true,
    "editable": true
   },
   "outputs": [
    {
     "data": {
      "text/plain": [
       "\u001b[32mimport \u001b[39m\u001b[36m$file.$               \n",
       "\u001b[39m\n",
       "\u001b[32mimport \u001b[39m\u001b[36mammonite.ops._\n",
       "\n",
       "\u001b[39m"
      ]
     },
     "execution_count": 1,
     "metadata": {},
     "output_type": "execute_result"
    }
   ],
   "source": [
    "import $file.scripts.importer\n",
    "import ammonite.ops._\n",
    "\n",
    "importer.loadProjectDependencies"
   ]
  },
  {
   "cell_type": "markdown",
   "metadata": {},
   "source": [
    "# Import actual interesting classes.\n",
    "\n",
    "We're using (modified) code from [Lucene cookbook's github repository](https://github.com/lambdaofgod/lucene4_cookbook_examples/blob/master/src/main/java/org/edng/lucene4/example/SearchResultText.java)"
   ]
  },
  {
   "cell_type": "code",
   "execution_count": 2,
   "metadata": {
    "collapsed": false,
    "deletable": true,
    "editable": true
   },
   "outputs": [
    {
     "name": "stdout",
     "output_type": "stream",
     "text": [
      "Indexed contents:\n",
      "Humpty Dumpty sat on a wall,\n",
      "Humpty Dumpty had a great fall.\n",
      "All the king's horses and all the king's men\n",
      "Couldn't put Humpty together again.\n"
     ]
    },
    {
     "data": {
      "text/plain": [
       "\u001b[32mimport \u001b[39m\u001b[36morg.edng.lucene4.example.SearchResultText\n",
       "\n",
       "\u001b[39m"
      ]
     },
     "execution_count": 2,
     "metadata": {},
     "output_type": "execute_result"
    }
   ],
   "source": [
    "import org.edng.lucene4.example.SearchResultText\n",
    "\n",
    "println(\"Indexed contents:\")\n",
    "SearchResultText.contents.foreach(println)"
   ]
  },
  {
   "cell_type": "code",
   "execution_count": 3,
   "metadata": {
    "collapsed": false,
    "deletable": true,
    "editable": true
   },
   "outputs": [
    {
     "name": "stdout",
     "output_type": "stream",
     "text": [
      "Total hits: 3\n",
      "0.81518793: Humpty Dumpty sat on a wall,\n",
      "0.7132894: Humpty Dumpty had a great fall.\n",
      "0.13417153: Couldn't put Humpty together again.\n"
     ]
    }
   ],
   "source": [
    "SearchResultText.run(\"humpty dumpty\", 3)"
   ]
  },
  {
   "cell_type": "code",
   "execution_count": 4,
   "metadata": {
    "collapsed": false,
    "deletable": true,
    "editable": true
   },
   "outputs": [
    {
     "name": "stdout",
     "output_type": "stream",
     "text": [
      "Total hits: 3\n",
      "0.5: Humpty Dumpty sat on a wall,\n",
      "0.4375: Humpty Dumpty had a great fall.\n",
      "0.4375: Couldn't put Humpty together again.\n"
     ]
    }
   ],
   "source": [
    "SearchResultText.run(\"humpty\", 5)"
   ]
  },
  {
   "cell_type": "markdown",
   "metadata": {},
   "source": [
    "### For interested in above scores: see [this](http://ipl.cs.aueb.gr/stougiannis/default.html)\n",
    "Default scoring is something like this:\n",
    "\n",
    "$score(q, d) = coord(q,d) \\cdot queryNorm(q) \\cdot \\sum_{t \\in q}{(TF(t, d) \\cdot IDF(t)^2)}$\n",
    "\n",
    "Where\n",
    "\n",
    "$coord(q, d) = \\frac{|p \\cap q|}{|q|}$\n",
    "\n",
    "$queryNorm(q) = (\\sum_{t \\in q}{IDF(t)^2})^{-1}$\n",
    "\n",
    "### My github handle: lambdaofgod\n",
    "## Thank you!"
   ]
  }
 ],
 "metadata": {
  "kernelspec": {
   "display_name": "Scala",
   "language": "scala",
   "name": "scala"
  },
  "language_info": {
   "codemirror_mode": "text/x-scala",
   "file_extension": ".scala",
   "mimetype": "text/x-scala",
   "name": "scala211",
   "nbconvert_exporter": "script",
   "pygments_lexer": "scala",
   "version": "2.11.8"
  }
 },
 "nbformat": 4,
 "nbformat_minor": 0
}
